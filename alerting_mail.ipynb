{
 "cells": [
  {
   "cell_type": "code",
   "execution_count": null,
   "id": "00531543",
   "metadata": {},
   "outputs": [],
   "source": [
    "import smtplib, ssl\n",
    "from dotenv import load_dotenv\n",
    "import os\n",
    "from email.mime.text import MIMEText\n",
    "from email.mime.multipart import MIMEMultipart\n",
    "load_dotenv()\n",
    "\n",
    "\n",
    "def send_alerting_mail(type_appel_offre : str, summary : str, url : str, scoring : dict):\n",
    "    mail_sender = os.getenv(\"MAIL_SENDER\")  \n",
    "    mail_password = os.getenv(\"MAIL_PASSWORD\")\n",
    "    smtp_server = \"smtp.office365.com\"\n",
    "    port = 587  # TLS port\n",
    "    msg = MIMEMultipart()\n",
    "    msg[\"From\"] = mail_sender\n",
    "    msg[\"To\"] = mail_sender\n",
    "    msg[\"Subject\"] = \"Nouvel appel d'offre : \" + str(type_appel_offre)\n",
    "    msg.attach(MIMEText(f\"\"\"Une nouvelle offre vient d'arriver et peut correspondre à vos critère : \\n\\n\n",
    "                        Résumé : {summary} \\n\\n\n",
    "                        url : {url} \\n\\n\n",
    "                        Scoring de la pertinence du résumé sur la catégorie : {scoring} \\n\\n\n",
    "                        \"\"\", \"plain\"))\n",
    "\n",
    "    context = ssl.create_default_context()\n",
    "    with smtplib.SMTP(smtp_server, port) as server:\n",
    "        server.starttls(context=context)\n",
    "        server.login(mail_sender, mail_password)\n",
    "        server.sendmail(mail_sender, mail_sender, msg.as_string())\n"
   ]
  },
  {
   "cell_type": "code",
   "execution_count": 12,
   "id": "b7d41b1c",
   "metadata": {},
   "outputs": [],
   "source": [
    "list = ['Fourniture', 'Service', 'Travaux', 'Médical', 'Génie civil']"
   ]
  },
  {
   "cell_type": "markdown",
   "id": "1e1e46ef",
   "metadata": {},
   "source": [
    "Partons du principe que nous ne travaillons que dans les fourniture et le médical :\n",
    "* Si la catégorie prédite (position 0 dans la liste) est fourniture ou médical, alors envoyer un mail\n",
    "* Passer la catégorie\n",
    "* Passer le résumé de LLM\n",
    "* Envoyer l'URL scrapé\n",
    "* Passer le scoring du LLM sur le résumé"
   ]
  },
  {
   "cell_type": "code",
   "execution_count": null,
   "id": "75c56d71",
   "metadata": {},
   "outputs": [],
   "source": [
    "if list[0] == 'Fourniture' or list[0] == 'Médical':\n",
    "    # Send an email alert\n",
    "    print(\"Sending alerting mail\")\n",
    "    send_alerting_mail(list[0],\"La consultation porte sur la fourniture et la livraison de meubles urbains pour la Ville de Coudekerque-Branche. Le candidat peut présenter sa candidature sous forme d'un document unique de marché européen (DUME) en place des formulaires DC\",\"httptest\",\n",
    "                    {'score': 0.48163360357284546,\n",
    "    'start': 28,\n",
    "    'end': 74,\n",
    "    'answer': ' fourniture et la livraison de meubles urbains'}\n",
    "    )"
   ]
  },
  {
   "cell_type": "code",
   "execution_count": null,
   "id": "8445a27d",
   "metadata": {},
   "outputs": [],
   "source": []
  }
 ],
 "metadata": {
  "kernelspec": {
   "display_name": "nlp_projet",
   "language": "python",
   "name": "python3"
  },
  "language_info": {
   "codemirror_mode": {
    "name": "ipython",
    "version": 3
   },
   "file_extension": ".py",
   "mimetype": "text/x-python",
   "name": "python",
   "nbconvert_exporter": "python",
   "pygments_lexer": "ipython3",
   "version": "3.11.9"
  }
 },
 "nbformat": 4,
 "nbformat_minor": 5
}
