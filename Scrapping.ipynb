{
 "cells": [
  {
   "cell_type": "code",
   "execution_count": 1,
   "metadata": {},
   "outputs": [
    {
     "name": "stdout",
     "output_type": "stream",
     "text": [
      "Requirement already satisfied: selenium in ./.venv/lib/python3.13/site-packages (4.33.0)\n",
      "Requirement already satisfied: urllib3~=2.4.0 in ./.venv/lib/python3.13/site-packages (from urllib3[socks]~=2.4.0->selenium) (2.4.0)\n",
      "Requirement already satisfied: trio~=0.30.0 in ./.venv/lib/python3.13/site-packages (from selenium) (0.30.0)\n",
      "Requirement already satisfied: trio-websocket~=0.12.2 in ./.venv/lib/python3.13/site-packages (from selenium) (0.12.2)\n",
      "Requirement already satisfied: certifi>=2025.4.26 in ./.venv/lib/python3.13/site-packages (from selenium) (2025.6.15)\n",
      "Requirement already satisfied: typing_extensions~=4.13.2 in ./.venv/lib/python3.13/site-packages (from selenium) (4.13.2)\n",
      "Requirement already satisfied: websocket-client~=1.8.0 in ./.venv/lib/python3.13/site-packages (from selenium) (1.8.0)\n",
      "Requirement already satisfied: attrs>=23.2.0 in ./.venv/lib/python3.13/site-packages (from trio~=0.30.0->selenium) (25.3.0)\n",
      "Requirement already satisfied: sortedcontainers in ./.venv/lib/python3.13/site-packages (from trio~=0.30.0->selenium) (2.4.0)\n",
      "Requirement already satisfied: idna in ./.venv/lib/python3.13/site-packages (from trio~=0.30.0->selenium) (3.10)\n",
      "Requirement already satisfied: outcome in ./.venv/lib/python3.13/site-packages (from trio~=0.30.0->selenium) (1.3.0.post0)\n",
      "Requirement already satisfied: sniffio>=1.3.0 in ./.venv/lib/python3.13/site-packages (from trio~=0.30.0->selenium) (1.3.1)\n",
      "Requirement already satisfied: wsproto>=0.14 in ./.venv/lib/python3.13/site-packages (from trio-websocket~=0.12.2->selenium) (1.2.0)\n",
      "Requirement already satisfied: pysocks!=1.5.7,<2.0,>=1.5.6 in ./.venv/lib/python3.13/site-packages (from urllib3[socks]~=2.4.0->selenium) (1.7.1)\n",
      "Requirement already satisfied: h11<1,>=0.9.0 in ./.venv/lib/python3.13/site-packages (from wsproto>=0.14->trio-websocket~=0.12.2->selenium) (0.16.0)\n"
     ]
    }
   ],
   "source": [
    "! pip install selenium"
   ]
  },
  {
   "cell_type": "code",
   "execution_count": 2,
   "metadata": {},
   "outputs": [
    {
     "name": "stdout",
     "output_type": "stream",
     "text": [
      "Requirement already satisfied: webdriver_manager in ./.venv/lib/python3.13/site-packages (4.0.2)\n",
      "Requirement already satisfied: requests in ./.venv/lib/python3.13/site-packages (from webdriver_manager) (2.32.4)\n",
      "Requirement already satisfied: python-dotenv in ./.venv/lib/python3.13/site-packages (from webdriver_manager) (1.1.1)\n",
      "Requirement already satisfied: packaging in ./.venv/lib/python3.13/site-packages (from webdriver_manager) (25.0)\n",
      "Requirement already satisfied: charset_normalizer<4,>=2 in ./.venv/lib/python3.13/site-packages (from requests->webdriver_manager) (3.4.2)\n",
      "Requirement already satisfied: idna<4,>=2.5 in ./.venv/lib/python3.13/site-packages (from requests->webdriver_manager) (3.10)\n",
      "Requirement already satisfied: urllib3<3,>=1.21.1 in ./.venv/lib/python3.13/site-packages (from requests->webdriver_manager) (2.4.0)\n",
      "Requirement already satisfied: certifi>=2017.4.17 in ./.venv/lib/python3.13/site-packages (from requests->webdriver_manager) (2025.6.15)\n"
     ]
    }
   ],
   "source": [
    "! pip install webdriver_manager"
   ]
  },
  {
   "cell_type": "code",
   "execution_count": 1,
   "metadata": {},
   "outputs": [],
   "source": [
    "import selenium\n",
    "from selenium import webdriver\n",
    "from selenium.webdriver.chrome.options import Options\n",
    "from webdriver_manager.chrome import ChromeDriverManager\n",
    "from selenium.webdriver.chrome.service import Service\n",
    "from selenium.webdriver.common.by import By\n",
    "import time\n",
    "import datetime\n",
    "import pprint as pp\n",
    "from selenium.webdriver.support.wait import WebDriverWait\n",
    "from selenium.webdriver.support import expected_conditions as EC"
   ]
  },
  {
   "cell_type": "code",
   "execution_count": 2,
   "metadata": {},
   "outputs": [],
   "source": [
    "url = \"https://www.boamp.fr/pages/entreprise-accueil/\"\n",
    "today = datetime.date.today().strftime(\"%d/%m/%Y\")"
   ]
  },
  {
   "cell_type": "code",
   "execution_count": 15,
   "metadata": {},
   "outputs": [],
   "source": [
    "options = Options()\n",
    "# options.add_argument(\"--headless\")  # Run in headless mode\n",
    "# options.binary_location =\"/Applications/Google Chrome.app/Contents/MacOS/Google Chrome\"\n",
    "# service = Service(ChromeDriverManager().install())\n",
    "# driver = webdriver.Chrome(service=service, options=options)\n",
    "driver = webdriver.Chrome(service=Service(ChromeDriverManager().install()),options=options) #driver_version=\"137.0.7151.122\"\n",
    "driver.get(url)\n",
    "\n",
    "#recherche des AO aujourd'hui\n",
    "time.sleep(3)\n",
    "driver.find_element(By.XPATH, './/a[@class=\"fr-btn\"]').click()\n",
    "time.sleep(3)\n",
    "driver.find_element(By.XPATH, './/button[@class=\"fr-accordion__btn ng-binding\"]').click()\n",
    "time.sleep(5)\n",
    "driver.find_element(By.XPATH, './/div[@class=\"odswidget-timerange__from\"]/input').send_keys(today)\n",
    "time.sleep(3)\n",
    "driver.find_element(By.XPATH, './/div[@class=\"odswidget-timerange__to\"]/input').send_keys(today)\n",
    "time.sleep(5)\n",
    "driver.find_element(By.XPATH, './/a[@class=\"fr-btn\"]').click()\n",
    "time.sleep(3)\n",
    "\n"
   ]
  },
  {
   "cell_type": "code",
   "execution_count": 16,
   "metadata": {},
   "outputs": [
    {
     "data": {
      "text/plain": [
       "11"
      ]
     },
     "execution_count": 16,
     "metadata": {},
     "output_type": "execute_result"
    }
   ],
   "source": [
    "import math\n",
    "#calcul nombre pages\n",
    "nb_pages = math.ceil(int(driver.find_element(By.XPATH, './/p[@class=\"fr-m-0 fr-text--lg ng-scope\"]').text[:-30])/10)\n",
    "nb_pages"
   ]
  },
  {
   "cell_type": "code",
   "execution_count": 17,
   "metadata": {},
   "outputs": [],
   "source": [
    "j=5\n",
    "liens=[]\n",
    "#liste de liens d'appels d'offres\n",
    "for i in range (1, 10):\n",
    "    if i > 6 and i != nb_pages-5:\n",
    "        # print(i)\n",
    "        driver.find_element(By.XPATH, './/div[@class=\"fr-container no-print\"]/nav/ul/li[6]').click()\n",
    "        time.sleep(5)\n",
    "        liens.extend([lien.get_attribute('href') for lien in driver.find_elements(By.XPATH, './/a[@class=\"fr-btn fr-my-1w ng-binding\"]')])\n",
    "    elif i == nb_pages-5:\n",
    "        # print(i)\n",
    "        j = j + 1\n",
    "        driver.find_element(By.XPATH, './/div[@class=\"fr-container no-print\"]/nav/ul/li[' + str(j) + ']').click()\n",
    "        time.sleep(5)\n",
    "        liens.extend([lien.get_attribute('href') for lien in driver.find_elements(By.XPATH, './/a[@class=\"fr-btn fr-my-1w ng-binding\"]')])\n",
    "    else:\n",
    "        # print(i)\n",
    "        driver.find_element(By.XPATH, './/ul[@class=\"no-list-style ng-scope\"]/li[' + str(i) + ']').click()\n",
    "        time.sleep(10)\n",
    "        liens.extend([lien.get_attribute('href') for lien in driver.find_elements(By.XPATH, './/a[@class=\"fr-btn fr-my-1w ng-binding\"]')]) # les liens\n",
    "driver.quit()"
   ]
  },
  {
   "cell_type": "code",
   "execution_count": 21,
   "metadata": {},
   "outputs": [
    {
     "name": "stdout",
     "output_type": "stream",
     "text": [
      "Appels d'offres récupérés !\n"
     ]
    }
   ],
   "source": [
    "AO=[]\n",
    "open('demo.log', 'w').close()  # Clear the log file\n",
    "for lien in liens[:5]:\n",
    "        if lien in open('demo.log').read():\n",
    "            print(\"Appel d'offre déjà traité\" )\n",
    "        else :\n",
    "            options = Options()\n",
    "            options.add_argument('--disable-blink-features=AutomationControlled')\n",
    "            options.add_argument('--headless')  # Run in headless mode\n",
    "            driver = webdriver.Chrome(service=Service(ChromeDriverManager().install()),options=options) # driver_version=\"137.0.7151.122\"\n",
    "            driver.get(lien)\n",
    "            time.sleep(5)\n",
    "            WebDriverWait(driver, 10).until(EC.presence_of_element_located((By.XPATH, './/button[@class=\"fr-btn fr-my-1w ng-binding\"]'))).click()\n",
    "            # driver.find_element(By.XPATH, './/button[@class=\"fr-btn fr-my-1w ng-binding\"]').click()\n",
    "            time.sleep(10)\n",
    "            text_ao = driver.find_element(By.XPATH, './/div[@class=\"ng-scope\"]').text\n",
    "            driver.quit()\n",
    "            AO.append(text_ao[text_ao.find(\"Avis n°\"):text_ao.find(\"Date d'envoi du présent avis à la publication\")])\n",
    "            with open ('demo.log', 'a') as f:\n",
    "                f.write(\"Appel d'offre : \" + lien + \" traité\\n\")\n",
    "        #driver.quit()\n",
    "print(\"Appels d'offres récupérés !\")"
   ]
  },
  {
   "cell_type": "code",
   "execution_count": 21,
   "metadata": {},
   "outputs": [],
   "source": [
    "# driver.quit()"
   ]
  },
  {
   "cell_type": "code",
   "execution_count": null,
   "metadata": {},
   "outputs": [],
   "source": [
    "# AO = []\n",
    "# #AO liste = texte \"clean\" des X appels d'offres\n",
    "# for lien in liens:\n",
    "#     driver.get(lien)\n",
    "#     time.sleep(5)\n",
    "#     driver.find_element(By.XPATH, './/button[@class=\"fr-btn fr-my-1w ng-binding\"]').click()\n",
    "#     time.sleep(10)\n",
    "#     text_ao = driver.find_element(By.XPATH, './/div[@class=\"ng-scope\"]').text\n",
    "#     AO.append(text_ao[text_ao.find(\"Avis n°\"):text_ao.find(\"Date d'envoi du présent avis à la publication\")])\n",
    "    "
   ]
  },
  {
   "cell_type": "code",
   "execution_count": 250,
   "metadata": {},
   "outputs": [
    {
     "name": "stdout",
     "output_type": "stream",
     "text": [
      "Avis n° 25-70875\n",
      "Détail de l'avis 25-70875\n",
      "Avis n° 25-70875\n",
      "Publié le 24 juin 2025\n",
      "Date limite de réponse le 21/07/2025 à 12h00\n",
      "Fourniture et livraison de mobiliers urbains pour la Ville de Coudekerque-Branche\n",
      "DÉPARTEMENT : 59\n",
      "ACHETEUR : VILLE DE COUDEKERQUE BRANCHE\n",
      "TYPE D'AVIS : Avis de marché\n",
      "PROCÉDURE : Procédure Ouverte\n",
      "Références complètes : Avis n° 25-70875\n",
      "Cacher le contenu de l'annonce\n",
      "Obtenir un extrait de l’avis (PDF)\n",
      "Avis de marché\n",
      "Département(s) de publication : 59\n",
      "Annonce n° 25-70875\n",
      "Fournitures\n",
      "Section 1 - Identification de l'acheteur\n",
      "Nom complet de l'acheteur : VILLE DE COUDEKERQUE BRANCHE\n",
      "Type de Numéro national d'indentification : SIRET\n",
      "N° National d'identification : 21590155400018\n",
      "Ville : COUDEKERQUE BRANCHE CEDEX\n",
      "Code postal : 59411\n",
      "Groupement de commandes : Non\n",
      "Département(s) de publication : 59\n",
      "Section 2 - Communication\n",
      "Lien vers le profil d'acheteur : https://www.marches-securises.fr/\n",
      "Identifiant interne de la consultation : 2025.08\n",
      "Intégralité des documents sur le profil d'acheteur : Oui\n",
      "Utilisation de moyens de communication non communément disponibles : Non\n",
      "Nom du contact : Amélie BENARD\n",
      "Adresse mail du contact : amelie.benard@ville-coudekerque-branche.fr\n",
      "Numéro de téléphone du contact : +33 328289958\n",
      "Section 3 - Procédure\n",
      "Type de procédure : Procédure adaptée ouverte\n",
      "Conditions de participation :\n",
      "Aptitude à exercer l'activité professionnelle - conditions / moyens de preuve : * DC1, DC2 ou équivalents . Le candidat peut présenter sa candidature sous forme d’un document unique de marché européen (DUME), en lieu et place des formulaires DC1 et DC2. En cas de groupement d’opérateurs économiques, chacun des membres du groupement fournira un formulaire DUME complété. * Copie du jugement ou des jugements prononcés si le candidat est en redressement judiciaire. * Déclaration sur l’honneur justifiant qu’il n’entre dans aucun des cas mentionnés aux articles L.2141-1 à L.2141-5 et L.2141-7 à L.2141-11 notamment, et qu’il satisfait aux obligations concernant l’emploi des travailleurs handicapés définies aux articles L.5212-1 à L.5212-11 du code du travail.\n",
      "Capacité économique et financière - conditions / moyens de preuve : 1. Déclaration concernant le chiffre d'affaires global du candidat et, le cas échéant, le chiffre d'affaires du domaine d'activité faisant l'objet du marché public, portant au maximum sur les trois derniers exercices disponibles en fonction de la date de création de l'entreprise ou du début d'activité de l'opérateur économique, dans la mesure où les informations sur ces chiffres d'affaires sont disponibles.\n",
      "Capacités techniques et professionnelles - conditions / moyens de preuve : 1. Une déclaration indiquant les effectifs moyens annuels du candidat et l'importance du personnel d'encadrement pour chacune des trois dernières années. 2. Une liste des principales livraisons effectuées ou des principaux services fournis au cours des trois dernières années, indiquant le montant, la date et le destinataire public ou privé. Les livraisons et les prestations de services sont prouvées par des attestations du destinataire ou, à défaut, par une déclaration de l'opérateur économique.\n",
      "Technique d'achat : Sans objet\n",
      "Date et heure limite de réception des plis : 21/07/2025 à 12:00\n",
      "Présentation des offres par catalogue électronique : Interdite\n",
      "Réduction du nombre de candidats : Non\n",
      "Possibilité d'attribution sans négociation : Oui\n",
      "L'acheteur exige la présentations de variantes : Non\n",
      "Critères d'attribution : prix - 40 Valeur technique - 25 Valeur esthétique - 25 Délais de livraison - 10\n",
      "Section 4 - Identification du marché\n",
      "Intitulé du marché : Fourniture et livraison de mobiliers urbains pour la Ville de Coudekerque-Branche\n",
      "Code CPV principal - Descripteur principal : 34928400\n",
      "Type de marché : Fournitures\n",
      "Description succincte du marché : fourniture et livraison de mobiliers urbains pour la Ville de Coudekerque-Branche, tels que corbeilles de ville et bacs de fleurissement (équipés d’assises et/ou d’ombrières). La pose d...(voir DCE)\n",
      "Lieu principal d'exécution du marché : Plusieurs lieux\n",
      "La consultation comporte des tranches : Non\n",
      "La consultation prévoit une réservation de tout ou partie du marché : Non\n",
      "Marché alloti : Non\n",
      "Section 6 - Informations Complementaires\n",
      "Visite obligatoire : Non\n",
      "Autres informations complémentaires : Durée: voir documents du marché. Les offres peuvent uniquement être remises électroniquement.\n",
      "\n"
     ]
    }
   ],
   "source": [
    "print(AO[0])"
   ]
  },
  {
   "cell_type": "code",
   "execution_count": 251,
   "metadata": {},
   "outputs": [],
   "source": [
    "with open(\"AO.txt\", \"w\") as f:\n",
    "    for avis in AO:\n",
    "        f.write(avis + \"\\n\\n\")"
   ]
  },
  {
   "cell_type": "code",
   "execution_count": 23,
   "metadata": {},
   "outputs": [],
   "source": [
    "driver.quit()"
   ]
  }
 ],
 "metadata": {
  "kernelspec": {
   "display_name": ".venv",
   "language": "python",
   "name": "python3"
  },
  "language_info": {
   "codemirror_mode": {
    "name": "ipython",
    "version": 3
   },
   "file_extension": ".py",
   "mimetype": "text/x-python",
   "name": "python",
   "nbconvert_exporter": "python",
   "pygments_lexer": "ipython3",
   "version": "3.13.1"
  }
 },
 "nbformat": 4,
 "nbformat_minor": 2
}
