{
 "cells": [
  {
   "cell_type": "code",
   "execution_count": 1,
   "metadata": {},
   "outputs": [
    {
     "name": "stdout",
     "output_type": "stream",
     "text": [
      "Collecting selenium\n",
      "  Downloading selenium-4.33.0-py3-none-any.whl.metadata (7.5 kB)\n",
      "Collecting urllib3~=2.4.0 (from urllib3[socks]~=2.4.0->selenium)\n",
      "  Using cached urllib3-2.4.0-py3-none-any.whl.metadata (6.5 kB)\n",
      "Collecting trio~=0.30.0 (from selenium)\n",
      "  Using cached trio-0.30.0-py3-none-any.whl.metadata (8.5 kB)\n",
      "Collecting trio-websocket~=0.12.2 (from selenium)\n",
      "  Using cached trio_websocket-0.12.2-py3-none-any.whl.metadata (5.1 kB)\n",
      "Collecting certifi>=2025.4.26 (from selenium)\n",
      "  Using cached certifi-2025.6.15-py3-none-any.whl.metadata (2.4 kB)\n",
      "Collecting typing_extensions~=4.13.2 (from selenium)\n",
      "  Using cached typing_extensions-4.13.2-py3-none-any.whl.metadata (3.0 kB)\n",
      "Collecting websocket-client~=1.8.0 (from selenium)\n",
      "  Using cached websocket_client-1.8.0-py3-none-any.whl.metadata (8.0 kB)\n",
      "Collecting attrs>=23.2.0 (from trio~=0.30.0->selenium)\n",
      "  Using cached attrs-25.3.0-py3-none-any.whl.metadata (10 kB)\n",
      "Collecting sortedcontainers (from trio~=0.30.0->selenium)\n",
      "  Using cached sortedcontainers-2.4.0-py2.py3-none-any.whl.metadata (10 kB)\n",
      "Collecting idna (from trio~=0.30.0->selenium)\n",
      "  Using cached idna-3.10-py3-none-any.whl.metadata (10 kB)\n",
      "Collecting outcome (from trio~=0.30.0->selenium)\n",
      "  Using cached outcome-1.3.0.post0-py2.py3-none-any.whl.metadata (2.6 kB)\n",
      "Collecting sniffio>=1.3.0 (from trio~=0.30.0->selenium)\n",
      "  Using cached sniffio-1.3.1-py3-none-any.whl.metadata (3.9 kB)\n",
      "Collecting wsproto>=0.14 (from trio-websocket~=0.12.2->selenium)\n",
      "  Using cached wsproto-1.2.0-py3-none-any.whl.metadata (5.6 kB)\n",
      "Collecting pysocks!=1.5.7,<2.0,>=1.5.6 (from urllib3[socks]~=2.4.0->selenium)\n",
      "  Using cached PySocks-1.7.1-py3-none-any.whl.metadata (13 kB)\n",
      "Collecting h11<1,>=0.9.0 (from wsproto>=0.14->trio-websocket~=0.12.2->selenium)\n",
      "  Using cached h11-0.16.0-py3-none-any.whl.metadata (8.3 kB)\n",
      "Downloading selenium-4.33.0-py3-none-any.whl (9.4 MB)\n",
      "\u001b[2K   \u001b[90m━━━━━━━━━━━━━━━━━━━━━━━━━━━━━━━━━━━━━━━━\u001b[0m \u001b[32m9.4/9.4 MB\u001b[0m \u001b[31m10.1 MB/s\u001b[0m eta \u001b[36m0:00:00\u001b[0m \u001b[36m0:00:01\u001b[0m\n",
      "\u001b[?25hUsing cached trio-0.30.0-py3-none-any.whl (499 kB)\n",
      "Using cached trio_websocket-0.12.2-py3-none-any.whl (21 kB)\n",
      "Using cached typing_extensions-4.13.2-py3-none-any.whl (45 kB)\n",
      "Using cached urllib3-2.4.0-py3-none-any.whl (128 kB)\n",
      "Using cached PySocks-1.7.1-py3-none-any.whl (16 kB)\n",
      "Using cached websocket_client-1.8.0-py3-none-any.whl (58 kB)\n",
      "Using cached attrs-25.3.0-py3-none-any.whl (63 kB)\n",
      "Using cached certifi-2025.6.15-py3-none-any.whl (157 kB)\n",
      "Using cached outcome-1.3.0.post0-py2.py3-none-any.whl (10 kB)\n",
      "Using cached sniffio-1.3.1-py3-none-any.whl (10 kB)\n",
      "Using cached wsproto-1.2.0-py3-none-any.whl (24 kB)\n",
      "Using cached h11-0.16.0-py3-none-any.whl (37 kB)\n",
      "Using cached idna-3.10-py3-none-any.whl (70 kB)\n",
      "Using cached sortedcontainers-2.4.0-py2.py3-none-any.whl (29 kB)\n",
      "Installing collected packages: sortedcontainers, websocket-client, urllib3, typing_extensions, sniffio, pysocks, idna, h11, certifi, attrs, wsproto, outcome, trio, trio-websocket, selenium\n",
      "\u001b[2K   \u001b[90m━━━━━━━━━━━━━━━━━━━━━━━━━━━━━━━━━━━━━━━━\u001b[0m \u001b[32m15/15\u001b[0m [selenium]/15\u001b[0m [selenium]\n",
      "\u001b[1A\u001b[2KSuccessfully installed attrs-25.3.0 certifi-2025.6.15 h11-0.16.0 idna-3.10 outcome-1.3.0.post0 pysocks-1.7.1 selenium-4.33.0 sniffio-1.3.1 sortedcontainers-2.4.0 trio-0.30.0 trio-websocket-0.12.2 typing_extensions-4.13.2 urllib3-2.4.0 websocket-client-1.8.0 wsproto-1.2.0\n"
     ]
    }
   ],
   "source": [
    "! pip install selenium"
   ]
  },
  {
   "cell_type": "code",
   "execution_count": 11,
   "metadata": {},
   "outputs": [
    {
     "name": "stdout",
     "output_type": "stream",
     "text": [
      "Collecting webdriver_manager\n",
      "  Using cached webdriver_manager-4.0.2-py2.py3-none-any.whl.metadata (12 kB)\n",
      "Collecting requests (from webdriver_manager)\n",
      "  Using cached requests-2.32.4-py3-none-any.whl.metadata (4.9 kB)\n",
      "Collecting python-dotenv (from webdriver_manager)\n",
      "  Downloading python_dotenv-1.1.1-py3-none-any.whl.metadata (24 kB)\n",
      "Requirement already satisfied: packaging in ./.venv/lib/python3.13/site-packages (from webdriver_manager) (25.0)\n",
      "Collecting charset_normalizer<4,>=2 (from requests->webdriver_manager)\n",
      "  Using cached charset_normalizer-3.4.2-cp313-cp313-macosx_10_13_universal2.whl.metadata (35 kB)\n",
      "Requirement already satisfied: idna<4,>=2.5 in ./.venv/lib/python3.13/site-packages (from requests->webdriver_manager) (3.10)\n",
      "Requirement already satisfied: urllib3<3,>=1.21.1 in ./.venv/lib/python3.13/site-packages (from requests->webdriver_manager) (2.4.0)\n",
      "Requirement already satisfied: certifi>=2017.4.17 in ./.venv/lib/python3.13/site-packages (from requests->webdriver_manager) (2025.6.15)\n",
      "Using cached webdriver_manager-4.0.2-py2.py3-none-any.whl (27 kB)\n",
      "Downloading python_dotenv-1.1.1-py3-none-any.whl (20 kB)\n",
      "Using cached requests-2.32.4-py3-none-any.whl (64 kB)\n",
      "Using cached charset_normalizer-3.4.2-cp313-cp313-macosx_10_13_universal2.whl (199 kB)\n",
      "Installing collected packages: python-dotenv, charset_normalizer, requests, webdriver_manager\n",
      "\u001b[2K   \u001b[90m━━━━━━━━━━━━━━━━━━━━━━━━━━━━━━━━━━━━━━━━\u001b[0m \u001b[32m4/4\u001b[0m [webdriver_manager]\n",
      "\u001b[1A\u001b[2KSuccessfully installed charset_normalizer-3.4.2 python-dotenv-1.1.1 requests-2.32.4 webdriver_manager-4.0.2\n"
     ]
    }
   ],
   "source": [
    "! pip install webdriver_manager"
   ]
  },
  {
   "cell_type": "code",
   "execution_count": 203,
   "metadata": {},
   "outputs": [],
   "source": [
    "import selenium\n",
    "from selenium import webdriver\n",
    "from selenium.webdriver.chrome.options import Options\n",
    "from webdriver_manager.chrome import ChromeDriverManager\n",
    "from selenium.webdriver.chrome.service import Service\n",
    "from selenium.webdriver.common.by import By\n",
    "import time\n",
    "import datetime\n",
    "import pprint as pp\n"
   ]
  },
  {
   "cell_type": "code",
   "execution_count": 182,
   "metadata": {},
   "outputs": [],
   "source": [
    "url = \"https://www.boamp.fr/pages/entreprise-accueil/\"\n",
    "today = datetime.date.today().strftime(\"%d/%m/%Y\")"
   ]
  },
  {
   "cell_type": "code",
   "execution_count": 183,
   "metadata": {},
   "outputs": [],
   "source": [
    "options = Options()\n",
    "options.add_argument(\"--start-maximized\")  # Run in headless mode\n",
    "options.binary_location =\"/Applications/Google Chrome.app/Contents/MacOS/Google Chrome\"\n",
    "service = Service(ChromeDriverManager().install())\n",
    "driver = webdriver.Chrome(service=service, options=options)\n",
    "driver.get(url)\n",
    "\n",
    "time.sleep(3)\n",
    "driver.find_element(By.XPATH, './/a[@class=\"fr-btn\"]').click()\n",
    "time.sleep(3)\n",
    "driver.find_element(By.XPATH, './/button[@class=\"fr-accordion__btn ng-binding\"]').click()\n",
    "time.sleep(5)\n",
    "driver.find_element(By.XPATH, './/div[@class=\"odswidget-timerange__from\"]/input').send_keys(today)\n",
    "time.sleep(3)\n",
    "driver.find_element(By.XPATH, './/div[@class=\"odswidget-timerange__to\"]/input').send_keys(today)\n",
    "time.sleep(5)\n",
    "driver.find_element(By.XPATH, './/a[@class=\"fr-btn\"]').click()\n",
    "time.sleep(3)\n",
    "\n"
   ]
  },
  {
   "cell_type": "code",
   "execution_count": 169,
   "metadata": {},
   "outputs": [
    {
     "data": {
      "text/plain": [
       "13"
      ]
     },
     "execution_count": 169,
     "metadata": {},
     "output_type": "execute_result"
    }
   ],
   "source": [
    "import math\n",
    "nb_pages = math.ceil(int(driver.find_element(By.XPATH, './/p[@class=\"fr-m-0 fr-text--lg ng-scope\"]').text[:-31])/10)\n",
    "nb_pages"
   ]
  },
  {
   "cell_type": "code",
   "execution_count": 184,
   "metadata": {},
   "outputs": [
    {
     "name": "stdout",
     "output_type": "stream",
     "text": [
      "1\n",
      "2\n",
      "3\n",
      "4\n",
      "5\n",
      "6\n",
      "7\n",
      "8\n"
     ]
    }
   ],
   "source": [
    "liens=[]\n",
    "for i in range(1,8+1):\n",
    "    print(i)\n",
    "    driver.find_element(By.XPATH, './/div[@class=\"fr-container no-print\"]/nav/ul/li[' + str(i) + ']').click()\n",
    "    time.sleep(10)\n",
    "    liens.extend([lien.get_attribute('href') for lien in driver.find_elements(By.XPATH, './/a[@class=\"fr-btn fr-my-1w ng-binding\"]')]) # les liens\n"
   ]
  },
  {
   "cell_type": "code",
   "execution_count": 186,
   "metadata": {},
   "outputs": [],
   "source": [
    "driver.get(liens[0])"
   ]
  },
  {
   "cell_type": "code",
   "execution_count": 189,
   "metadata": {},
   "outputs": [],
   "source": [
    "driver.find_element(By.XPATH, './/button[@class=\"fr-btn fr-my-1w ng-binding\"]').click()"
   ]
  },
  {
   "cell_type": "code",
   "execution_count": 205,
   "metadata": {},
   "outputs": [],
   "source": [
    "p = driver.find_element(By.XPATH, './/div[@class=\"ng-scope\"]').text"
   ]
  },
  {
   "cell_type": "code",
   "execution_count": 218,
   "metadata": {},
   "outputs": [
    {
     "name": "stdout",
     "output_type": "stream",
     "text": [
      "Avis n° 25-70875\n",
      "Détail de l'avis 25-70875\n",
      "Avis n° 25-70875\n",
      "Publié le 24 juin 2025\n",
      "Date limite de réponse le 21/07/2025 à 12h00\n",
      "Fourniture et livraison de mobiliers urbains pour la Ville de Coudekerque-Branche\n",
      "DÉPARTEMENT : 59\n",
      "ACHETEUR : VILLE DE COUDEKERQUE BRANCHE\n",
      "TYPE D'AVIS : Avis de marché\n",
      "PROCÉDURE : Procédure Ouverte\n",
      "Références complètes : Avis n° 25-70875\n",
      "Cacher le contenu de l'annonce\n",
      "Obtenir un extrait de l’avis (PDF)\n",
      "Avis de marché\n",
      "Département(s) de publication : 59\n",
      "Annonce n° 25-70875\n",
      "Fournitures\n",
      "Section 1 - Identification de l'acheteur\n",
      "Nom complet de l'acheteur : VILLE DE COUDEKERQUE BRANCHE\n",
      "Type de Numéro national d'indentification : SIRET\n",
      "N° National d'identification : 21590155400018\n",
      "Ville : COUDEKERQUE BRANCHE CEDEX\n",
      "Code postal : 59411\n",
      "Groupement de commandes : Non\n",
      "Département(s) de publication : 59\n",
      "Section 2 - Communication\n",
      "Lien vers le profil d'acheteur : https://www.marches-securises.fr/\n",
      "Identifiant interne de la consultation : 2025.08\n",
      "Intégralité des documents sur le profil d'acheteur : Oui\n",
      "Utilisation de moyens de communication non communément disponibles : Non\n",
      "Nom du contact : Amélie BENARD\n",
      "Adresse mail du contact : amelie.benard@ville-coudekerque-branche.fr\n",
      "Numéro de téléphone du contact : +33 328289958\n",
      "Section 3 - Procédure\n",
      "Type de procédure : Procédure adaptée ouverte\n",
      "Conditions de participation :\n",
      "Aptitude à exercer l'activité professionnelle - conditions / moyens de preuve : * DC1, DC2 ou équivalents . Le candidat peut présenter sa candidature sous forme d’un document unique de marché européen (DUME), en lieu et place des formulaires DC1 et DC2. En cas de groupement d’opérateurs économiques, chacun des membres du groupement fournira un formulaire DUME complété. * Copie du jugement ou des jugements prononcés si le candidat est en redressement judiciaire. * Déclaration sur l’honneur justifiant qu’il n’entre dans aucun des cas mentionnés aux articles L.2141-1 à L.2141-5 et L.2141-7 à L.2141-11 notamment, et qu’il satisfait aux obligations concernant l’emploi des travailleurs handicapés définies aux articles L.5212-1 à L.5212-11 du code du travail.\n",
      "Capacité économique et financière - conditions / moyens de preuve : 1. Déclaration concernant le chiffre d'affaires global du candidat et, le cas échéant, le chiffre d'affaires du domaine d'activité faisant l'objet du marché public, portant au maximum sur les trois derniers exercices disponibles en fonction de la date de création de l'entreprise ou du début d'activité de l'opérateur économique, dans la mesure où les informations sur ces chiffres d'affaires sont disponibles.\n",
      "Capacités techniques et professionnelles - conditions / moyens de preuve : 1. Une déclaration indiquant les effectifs moyens annuels du candidat et l'importance du personnel d'encadrement pour chacune des trois dernières années. 2. Une liste des principales livraisons effectuées ou des principaux services fournis au cours des trois dernières années, indiquant le montant, la date et le destinataire public ou privé. Les livraisons et les prestations de services sont prouvées par des attestations du destinataire ou, à défaut, par une déclaration de l'opérateur économique.\n",
      "Technique d'achat : Sans objet\n",
      "Date et heure limite de réception des plis : 21/07/2025 à 12:00\n",
      "Présentation des offres par catalogue électronique : Interdite\n",
      "Réduction du nombre de candidats : Non\n",
      "Possibilité d'attribution sans négociation : Oui\n",
      "L'acheteur exige la présentations de variantes : Non\n",
      "Critères d'attribution : prix - 40 Valeur technique - 25 Valeur esthétique - 25 Délais de livraison - 10\n",
      "Section 4 - Identification du marché\n",
      "Intitulé du marché : Fourniture et livraison de mobiliers urbains pour la Ville de Coudekerque-Branche\n",
      "Code CPV principal - Descripteur principal : 34928400\n",
      "Type de marché : Fournitures\n",
      "Description succincte du marché : fourniture et livraison de mobiliers urbains pour la Ville de Coudekerque-Branche, tels que corbeilles de ville et bacs de fleurissement (équipés d’assises et/ou d’ombrières). La pose d...(voir DCE)\n",
      "Lieu principal d'exécution du marché : Plusieurs lieux\n",
      "La consultation comporte des tranches : Non\n",
      "La consultation prévoit une réservation de tout ou partie du marché : Non\n",
      "Marché alloti : Non\n",
      "Section 6 - Informations Complementaires\n",
      "Visite obligatoire : Non\n",
      "Autres informations complémentaires : Durée: voir documents du marché. Les offres peuvent uniquement être remises électroniquement.\n",
      "\n"
     ]
    }
   ],
   "source": [
    "print(p[p.find(\"Avis n° 25-70875\"):p.find(\"Date d'envoi du présent avis à la publication\")])  # Affiche le texte jusqu'à \"Date de publication\""
   ]
  }
 ],
 "metadata": {
  "kernelspec": {
   "display_name": ".venv",
   "language": "python",
   "name": "python3"
  },
  "language_info": {
   "codemirror_mode": {
    "name": "ipython",
    "version": 3
   },
   "file_extension": ".py",
   "mimetype": "text/x-python",
   "name": "python",
   "nbconvert_exporter": "python",
   "pygments_lexer": "ipython3",
   "version": "3.13.1"
  }
 },
 "nbformat": 4,
 "nbformat_minor": 2
}
