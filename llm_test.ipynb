{
 "cells": [
  {
   "cell_type": "markdown",
   "id": "0b19ea21",
   "metadata": {},
   "source": [
    "# Utilisation de mDeBERTa-v3-base-mnli-xnli"
   ]
  },
  {
   "cell_type": "code",
   "execution_count": null,
   "id": "d416c0a4",
   "metadata": {},
   "outputs": [],
   "source": [
    "from huggingface_hub import whoami\n",
    "from transformers import pipeline\n",
    "import numpy\n",
    "#print(whoami())\n",
    "\n",
    "#Check HuggingFace token auth if needed"
   ]
  },
  {
   "cell_type": "code",
   "execution_count": 6,
   "id": "ea78dba3",
   "metadata": {},
   "outputs": [],
   "source": [
    "def classifier_appel_offre(prompt_appel_offre : str, model_name : str = \"MoritzLaurer/mDeBERTa-v3-base-mnli-xnli\") : \n",
    "    classifier = pipeline(\"zero-shot-classification\", model=model_name)\n",
    "    candidate_labels = [\"Médical\", \"Génie civil\", \"Travaux\", \"Service\", \"Fourniture\"]\n",
    "    output = classifier(prompt_appel_offre, candidate_labels, multi_label=False)\n",
    "    return {\"Labels\" : output['labels'], \n",
    "            \"Scores\" : output['scores']\n",
    "        }\n"
   ]
  },
  {
   "cell_type": "code",
   "execution_count": null,
   "id": "9b818575",
   "metadata": {},
   "outputs": [],
   "source": []
  },
  {
   "cell_type": "code",
   "execution_count": null,
   "id": "a8bd97fe",
   "metadata": {},
   "outputs": [],
   "source": []
  },
  {
   "cell_type": "code",
   "execution_count": 29,
   "id": "2b4e1f8a",
   "metadata": {},
   "outputs": [
    {
     "name": "stderr",
     "output_type": "stream",
     "text": [
      "c:\\Users\\Utilisateur\\python_envs\\nlp_projet\\Lib\\site-packages\\transformers\\convert_slow_tokenizer.py:550: UserWarning: The sentencepiece tokenizer that you are converting to a fast tokenizer uses the byte fallback option which is not implemented in the fast tokenizers. In practice this means that the fast version of the tokenizer can produce unknown tokens whereas the sentencepiece version would have converted these unknown tokens into a sequence of byte tokens matching the original piece of text.\n",
      "  warnings.warn(\n"
     ]
    },
    {
     "name": "stdout",
     "output_type": "stream",
     "text": [
      "A l'appel d'offre :\n"
     ]
    }
   ],
   "source": [
    "import re\n",
    "from transformers import AutoTokenizer, AutoModelForSeq2SeqLM\n",
    "\n",
    "WHITESPACE_HANDLER = lambda k: re.sub('\\s+', ' ', re.sub('\\n+', ' ', k.strip()))\n",
    "\n",
    "article_text = \"\"\"\n",
    "Appel d'offre : \n",
    "Fourniture et livraison de mobiliers urbains pour la Ville de Coudekerque-Branche\n",
    "\n",
    "    Département : 59\n",
    "    Acheteur : VILLE DE COUDEKERQUE BRANCHE\n",
    "    Type d'avis : Avis de marché\n",
    "    Procédure : Procédure Ouverte\n",
    "\n",
    "\n",
    "\"\"\"\n",
    "model_name = \"csebuetnlp/mT5_multilingual_XLSum\"\n",
    "tokenizer = AutoTokenizer.from_pretrained(model_name)\n",
    "model = AutoModelForSeq2SeqLM.from_pretrained(model_name)\n",
    "\n",
    "input_ids = tokenizer(\n",
    "    [WHITESPACE_HANDLER(article_text)],\n",
    "    return_tensors=\"pt\",\n",
    "    padding=\"max_length\",\n",
    "    truncation=True,\n",
    "    max_length=512\n",
    ")[\"input_ids\"]\n",
    "\n",
    "output_ids = model.generate(\n",
    "    input_ids=input_ids,\n",
    "    max_length=150,\n",
    "    no_repeat_ngram_size=2,\n",
    "    num_beams=4\n",
    ")[0]\n",
    "\n",
    "summary = tokenizer.decode(\n",
    "    output_ids,\n",
    "    skip_special_tokens=True,\n",
    "    clean_up_tokenization_spaces=False\n",
    ")\n",
    "\n",
    "print(summary)\n"
   ]
  },
  {
   "cell_type": "code",
   "execution_count": null,
   "id": "0cff3311",
   "metadata": {},
   "outputs": [],
   "source": []
  },
  {
   "cell_type": "markdown",
   "id": "aa53c5e0",
   "metadata": {},
   "source": [
    "## Resumer "
   ]
  },
  {
   "cell_type": "code",
   "execution_count": 38,
   "id": "7fc3147b",
   "metadata": {},
   "outputs": [],
   "source": [
    "from transformers import pipelines\n",
    "def resumer_appel_offre(prompt_appel_offre : str, model_name : str = \"plguillou/t5-base-fr-sum-cnndm\") :\n",
    "    summarizer = pipeline(\"summarization\", model=model_name)\n",
    "\n",
    "    resume = summarizer(prompt_appel_offre, max_length=60, min_length=10, do_sample=False)\n",
    "    return (resume[0]['summary_text'])"
   ]
  },
  {
   "cell_type": "code",
   "execution_count": null,
   "id": "0d8c597c",
   "metadata": {},
   "outputs": [
    {
     "name": "stderr",
     "output_type": "stream",
     "text": [
      "Special tokens have been added in the vocabulary, make sure the associated word embeddings are fine-tuned or trained.\n",
      "Special tokens have been added in the vocabulary, make sure the associated word embeddings are fine-tuned or trained.\n",
      "Token indices sequence length is longer than the specified maximum sequence length for this model (1265 > 512). Running this sequence through the model will result in indexing errors\n"
     ]
    },
    {
     "data": {
      "text/plain": [
       "\"La consultation porte sur la fourniture et la livraison de meubles urbains pour la Ville de Coudekerque-Branche. Le candidat peut présenter sa candidature sous forme d'un document unique de marché européen (DUME) en place des formulaires DC\""
      ]
     },
     "execution_count": 40,
     "metadata": {},
     "output_type": "execute_result"
    }
   ],
   "source": [
    "resumer_appel_offre(\"\"\"\n",
    " Fourniture et livraison de mobiliers urbains pour la Ville de Coudekerque-Branche\n",
    "\n",
    "    Département : 59\n",
    "    Acheteur : VILLE DE COUDEKERQUE BRANCHE\n",
    "    Type d'avis : Avis de marché\n",
    "    Procédure : Procédure Ouverte\n",
    "\n",
    "Références complètes : Avis n° 25-70875\n",
    "\n",
    "Obtenir un extrait de l’avis (PDF)\n",
    "Avis de marché\n",
    "Département(s) de publication : 59\n",
    "Annonce n° 25-70875\n",
    "Fournitures\n",
    "Section 1 - Identification de l'acheteur\n",
    "Nom complet de l'acheteur : VILLE DE COUDEKERQUE BRANCHE\n",
    "Type de Numéro national d'indentification : SIRET\n",
    "N° National d'identification : 21590155400018\n",
    "Ville : COUDEKERQUE BRANCHE CEDEX\n",
    "Code postal : 59411\n",
    "Groupement de commandes : Non\n",
    "Département(s) de publication : 59\n",
    "Section 2 - Communication\n",
    "Lien vers le profil d'acheteur : https://www.marches-securises.fr/\n",
    "Identifiant interne de la consultation : 2025.08\n",
    "Intégralité des documents sur le profil d'acheteur : Oui\n",
    "Utilisation de moyens de communication non communément disponibles : Non\n",
    "Nom du contact : Amélie BENARD\n",
    "Adresse mail du contact : amelie.benard@ville-coudekerque-branche.fr\n",
    "Numéro de téléphone du contact : +33 328289958\n",
    "Section 3 - Procédure\n",
    "Type de procédure : Procédure adaptée ouverte\n",
    "Conditions de participation :\n",
    "\n",
    "    Aptitude à exercer l'activité professionnelle - conditions / moyens de preuve : * DC1, DC2 ou équivalents . Le candidat peut présenter sa candidature sous forme d’un document unique de marché européen (DUME), en lieu et place des formulaires DC1 et DC2. En cas de groupement d’opérateurs économiques, chacun des membres du groupement fournira un formulaire DUME complété. * Copie du jugement ou des jugements prononcés si le candidat est en redressement judiciaire. * Déclaration sur l’honneur justifiant qu’il n’entre dans aucun des cas mentionnés aux articles L.2141-1 à L.2141-5 et L.2141-7 à L.2141-11 notamment, et qu’il satisfait aux obligations concernant l’emploi des travailleurs handicapés définies aux articles L.5212-1 à L.5212-11 du code du travail.\n",
    "    Capacité économique et financière - conditions / moyens de preuve : 1. Déclaration concernant le chiffre d'affaires global du candidat et, le cas échéant, le chiffre d'affaires du domaine d'activité faisant l'objet du marché public, portant au maximum sur les trois derniers exercices disponibles en fonction de la date de création de l'entreprise ou du début d'activité de l'opérateur économique, dans la mesure où les informations sur ces chiffres d'affaires sont disponibles.\n",
    "    Capacités techniques et professionnelles - conditions / moyens de preuve : 1. Une déclaration indiquant les effectifs moyens annuels du candidat et l'importance du personnel d'encadrement pour chacune des trois dernières années. 2. Une liste des principales livraisons effectuées ou des principaux services fournis au cours des trois dernières années, indiquant le montant, la date et le destinataire public ou privé. Les livraisons et les prestations de services sont prouvées par des attestations du destinataire ou, à défaut, par une déclaration de l'opérateur économique.\n",
    "\n",
    "Technique d'achat : Sans objet\n",
    "Date et heure limite de réception des plis : 21/07/2025 à 12:00\n",
    "Présentation des offres par catalogue électronique : Interdite\n",
    "Réduction du nombre de candidats : Non\n",
    "Possibilité d'attribution sans négociation : Oui\n",
    "L'acheteur exige la présentations de variantes : Non\n",
    "Critères d'attribution : prix - 40 Valeur technique - 25 Valeur esthétique - 25 Délais de livraison - 10\n",
    "Section 4 - Identification du marché\n",
    "Intitulé du marché : Fourniture et livraison de mobiliers urbains pour la Ville de Coudekerque-Branche\n",
    "Code CPV principal - Descripteur principal : 34928400\n",
    "Type de marché : Fournitures\n",
    "Description succincte du marché : fourniture et livraison de mobiliers urbains pour la Ville de Coudekerque-Branche, tels que corbeilles de ville et bacs de fleurissement (équipés d’assises et/ou d’ombrières). La pose d...(voir DCE)\n",
    "Lieu principal d'exécution du marché : Plusieurs lieux\n",
    "La consultation comporte des tranches : Non\n",
    "La consultation prévoit une réservation de tout ou partie du marché : Non\n",
    "Marché alloti : Non\n",
    "Section 6 - Informations Complementaires\n",
    "Visite obligatoire : Non\n",
    "Autres informations complémentaires : Durée: voir documents du marché. Les offres peuvent uniquement être remises électroniquement.\n",
    "Date d'envoi du présent avis à la publication : 24/06/2025\n",
    "\n",
    "\"\"\")"
   ]
  },
  {
   "cell_type": "code",
   "execution_count": null,
   "id": "3d6aef89",
   "metadata": {},
   "outputs": [],
   "source": []
  },
  {
   "cell_type": "markdown",
   "id": "805f8c8b",
   "metadata": {},
   "source": [
    "## Scoring"
   ]
  },
  {
   "cell_type": "code",
   "execution_count": 50,
   "id": "aed33a10",
   "metadata": {},
   "outputs": [
    {
     "data": {
      "text/plain": [
       "{'score': 0.48163360357284546,\n",
       " 'start': 28,\n",
       " 'end': 74,\n",
       " 'answer': ' fourniture et la livraison de meubles urbains'}"
      ]
     },
     "execution_count": 50,
     "metadata": {},
     "output_type": "execute_result"
    }
   ],
   "source": [
    "from transformers import pipeline\n",
    "\n",
    "nlp = pipeline('question-answering', model='etalab-ia/camembert-base-squadFR-fquad-piaf', tokenizer='etalab-ia/camembert-base-squadFR-fquad-piaf')\n",
    "\n",
    "nlp({\n",
    "    'question': \"Dans quelle catégorie se situe l'appel d'offre ?\",\n",
    "    'context': \"La consultation porte sur la fourniture et la livraison de meubles urbains pour la Ville de Coudekerque-Branche. Le candidat peut présenter sa candidature sous forme d'un document unique de marché européen (DUME) en place des formulaires DC\"\n",
    "\n",
    "})\n"
   ]
  },
  {
   "cell_type": "code",
   "execution_count": null,
   "id": "9bd80722",
   "metadata": {},
   "outputs": [],
   "source": []
  }
 ],
 "metadata": {
  "kernelspec": {
   "display_name": "nlp_projet",
   "language": "python",
   "name": "python3"
  },
  "language_info": {
   "codemirror_mode": {
    "name": "ipython",
    "version": 3
   },
   "file_extension": ".py",
   "mimetype": "text/x-python",
   "name": "python",
   "nbconvert_exporter": "python",
   "pygments_lexer": "ipython3",
   "version": "3.11.9"
  }
 },
 "nbformat": 4,
 "nbformat_minor": 5
}
