{
 "cells": [
  {
   "cell_type": "markdown",
   "id": "0b19ea21",
   "metadata": {},
   "source": [
    "# Utilisation de mDeBERTa-v3-base-mnli-xnli"
   ]
  },
  {
   "cell_type": "code",
   "execution_count": null,
   "id": "d416c0a4",
   "metadata": {},
   "outputs": [],
   "source": [
    "from huggingface_hub import whoami\n",
    "from transformers import pipeline\n",
    "import numpy\n",
    "#print(whoami())\n",
    "\n",
    "#Check HuggingFace token auth if needed"
   ]
  },
  {
   "cell_type": "code",
   "execution_count": 6,
   "id": "ea78dba3",
   "metadata": {},
   "outputs": [],
   "source": [
    "def classifier_appel_offre(prompt_appel_offre : str, model_name : str = \"MoritzLaurer/mDeBERTa-v3-base-mnli-xnli\") : \n",
    "    classifier = pipeline(\"zero-shot-classification\", model=model_name)\n",
    "    candidate_labels = [\"Médical\", \"Génie civil\", \"Travaux\", \"Service\", \"Fourniture\"]\n",
    "    output = classifier(prompt_appel_offre, candidate_labels, multi_label=False)\n",
    "    return {\"Labels\" : output['labels'], \n",
    "            \"Scores\" : output['scores']\n",
    "        }\n"
   ]
  },
  {
   "cell_type": "code",
   "execution_count": null,
   "id": "7505c581",
   "metadata": {},
   "outputs": [],
   "source": []
  },
  {
   "cell_type": "code",
   "execution_count": null,
   "id": "0cff3311",
   "metadata": {},
   "outputs": [],
   "source": []
  },
  {
   "cell_type": "code",
   "execution_count": null,
   "id": "6c7aac3b",
   "metadata": {},
   "outputs": [],
   "source": []
  },
  {
   "cell_type": "code",
   "execution_count": null,
   "id": "d736d8dd",
   "metadata": {},
   "outputs": [],
   "source": []
  },
  {
   "cell_type": "code",
   "execution_count": null,
   "id": "3d6aef89",
   "metadata": {},
   "outputs": [],
   "source": []
  },
  {
   "cell_type": "code",
   "execution_count": null,
   "id": "805f8c8b",
   "metadata": {},
   "outputs": [],
   "source": []
  },
  {
   "cell_type": "code",
   "execution_count": null,
   "id": "aed33a10",
   "metadata": {},
   "outputs": [],
   "source": []
  },
  {
   "cell_type": "code",
   "execution_count": null,
   "id": "a113cc1f",
   "metadata": {},
   "outputs": [],
   "source": []
  },
  {
   "cell_type": "code",
   "execution_count": null,
   "id": "9bd80722",
   "metadata": {},
   "outputs": [],
   "source": []
  }
 ],
 "metadata": {
  "kernelspec": {
   "display_name": "nlp_projet",
   "language": "python",
   "name": "python3"
  },
  "language_info": {
   "codemirror_mode": {
    "name": "ipython",
    "version": 3
   },
   "file_extension": ".py",
   "mimetype": "text/x-python",
   "name": "python",
   "nbconvert_exporter": "python",
   "pygments_lexer": "ipython3",
   "version": "3.11.9"
  }
 },
 "nbformat": 4,
 "nbformat_minor": 5
}
