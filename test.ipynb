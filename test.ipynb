{
 "cells": [
  {
   "cell_type": "code",
   "execution_count": null,
   "metadata": {},
   "outputs": [],
   "source": [
    "\"https://www.boamp.fr/pages/avis?q=idweb:%2225-72698%22\""
   ]
  },
  {
   "cell_type": "code",
   "execution_count": 1,
   "metadata": {},
   "outputs": [],
   "source": [
    "import re"
   ]
  },
  {
   "cell_type": "code",
   "execution_count": 3,
   "metadata": {},
   "outputs": [],
   "source": [
    "liens =[\"https://www.boamp.fr/pages/avis?q=idweb:%2225-72632%22\",\"https://www.boamp.fr/pages/avis?q=idweb:%2225-72642%22\" , \n",
    "        \"https://www.boamp.fr/pages/avis?q=idweb:%2225-72612%22\",\n",
    "\"https://www.boamp.fr/pages/avis?q=idweb:%2225-72633%22\" ,\n",
    "\"https://www.boamp.fr/pages/avis?q=idweb:%2225-72698%22\" ,\n",
    "\"https://www.boamp.fr/pages/avis?q=idweb:%2225-72706%22\" ,\n",
    "\"https://www.boamp.fr/pages/avis?q=idweb:%2225-72718%22\" ,\n",
    "\"https://www.boamp.fr/pages/avis?q=idweb:%2225-72726%22\" ,\n",
    "\"https://www.boamp.fr/pages/avis?q=idweb:%2225-72686%22\" ,\n",
    "\"https://www.boamp.fr/pages/avis?q=idweb:%2225-72670%22\" ,\n",
    "\"https://www.boamp.fr/pages/avis?q=idweb:%2225-72674%22\" ,\n",
    "\"https://www.boamp.fr/pages/avis?q=idweb:%2225-72550%22\"  ]"
   ]
  },
  {
   "cell_type": "code",
   "execution_count": 2,
   "metadata": {},
   "outputs": [
    {
     "name": "stdout",
     "output_type": "stream",
     "text": [
      "Appel d'offre : https://www.boamp.fr/pages/avis?q=idweb:%2225-72632%22 traité\n",
      "Appel d'offre : https://www.boamp.fr/pages/avis?q=idweb:%2225-72642%22 traité\n",
      "Appel d'offre : https://www.boamp.fr/pages/avis?q=idweb:%2225-72612%22 traité\n",
      "Appel d'offre : https://www.boamp.fr/pages/avis?q=idweb:%2225-72633%22 traité\n",
      "Appel d'offre : https://www.boamp.fr/pages/avis?q=idweb:%2225-72698%22 traité\n",
      "Appel d'offre : https://www.boamp.fr/pages/avis?q=idweb:%2225-72706%22 traité\n",
      "Appel d'offre : https://www.boamp.fr/pages/avis?q=idweb:%2225-72718%22 traité\n",
      "Appel d'offre : https://www.boamp.fr/pages/avis?q=idweb:%2225-72726%22 traité\n",
      "Appel d'offre : https://www.boamp.fr/pages/avis?q=idweb:%2225-72686%22 traité\n",
      "Appel d'offre : https://www.boamp.fr/pages/avis?q=idweb:%2225-72670%22 traité\n",
      "Appel d'offre : https://www.boamp.fr/pages/avis?q=idweb:%2225-72674%22 traité\n",
      "Appel d'offre : https://www.boamp.fr/pages/avis?q=idweb:%2225-72550%22 traité\n",
      "Appel d'offre : https://www.boamp.fr/pages/avis?q=idweb:%2225-72554%22 traité"
     ]
    }
   ],
   "source": [
    "with open('test.log','r') as txt:\n",
    "    for line in txt:\n",
    "        print(line, end='')  # the end='' argument removes extra linebreaks"
   ]
  },
  {
   "cell_type": "code",
   "execution_count": 4,
   "metadata": {},
   "outputs": [
    {
     "name": "stdout",
     "output_type": "stream",
     "text": [
      "Appel d'offre déjà traité\n",
      "Appel d'offre déjà traité\n",
      "Appel d'offre déjà traité\n",
      "Appel d'offre déjà traité\n",
      "Appel d'offre déjà traité\n",
      "Appel d'offre déjà traité\n",
      "Appel d'offre déjà traité\n",
      "Appel d'offre déjà traité\n",
      "Appel d'offre déjà traité\n",
      "Appel d'offre déjà traité\n",
      "Appel d'offre déjà traité\n",
      "Appel d'offre déjà traité\n"
     ]
    }
   ],
   "source": [
    "for lien in liens:\n",
    "        if lien in open('test.log').read():\n",
    "              print(\"Appel d'offre déjà traité\" )\n",
    "        else :\n",
    "               print(\" pas encore traité\")\n",
    "#         driver.get(lien)\n",
    "#         time.sleep(5)\n",
    "#         driver.find_element(By.XPATH, './/button[@class=\"fr-btn fr-my-1w ng-binding\"]').click()\n",
    "#         time.sleep(10)\n",
    "#         text_ao = driver.find_element(By.XPATH, './/div[@class=\"ng-scope\"]').text\n",
    "#         AO.append(text_ao[text_ao.find(\"Avis n°\"):text_ao.find(\"Date d'envoi du présent avis à la publication\")])\n",
    "#         with open ('AO.log', 'a') as f:\n",
    "#             f.write(\"Appel d'offre : \" + lien + \" traité\\n\")\n",
    "#     driver.quit()\n",
    "#     return AO,liens"
   ]
  }
 ],
 "metadata": {
  "kernelspec": {
   "display_name": "nlp_course",
   "language": "python",
   "name": "python3"
  },
  "language_info": {
   "codemirror_mode": {
    "name": "ipython",
    "version": 3
   },
   "file_extension": ".py",
   "mimetype": "text/x-python",
   "name": "python",
   "nbconvert_exporter": "python",
   "pygments_lexer": "ipython3",
   "version": "3.7.16"
  }
 },
 "nbformat": 4,
 "nbformat_minor": 2
}
